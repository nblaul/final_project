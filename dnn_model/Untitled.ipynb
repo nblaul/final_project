{
 "cells": [
  {
   "cell_type": "code",
   "execution_count": 3,
   "id": "dda0cf4e",
   "metadata": {},
   "outputs": [],
   "source": [
    "import numpy as np\n",
    "import pandas as pd\n",
    "import tensorflow as tf"
   ]
  },
  {
   "cell_type": "code",
   "execution_count": 9,
   "id": "9dea32c3",
   "metadata": {},
   "outputs": [],
   "source": [
    "model = tf.keras.models.load_model('.')"
   ]
  },
  {
   "cell_type": "code",
   "execution_count": 11,
   "id": "a5e248ce",
   "metadata": {},
   "outputs": [],
   "source": [
    "headers = ['YearsCodePro', 'AWS', 'Bash/Shell', 'C++',\n",
    "       'COBOL', 'Cassandra', 'Clojure', 'Crystal', 'Delphi', 'Django',\n",
    "       'Drupal', 'DynamoDB', 'Elasticsearch', 'Flask', 'Flow', 'Git', 'Go',\n",
    "       'Google Cloud Platform', 'Hadoop', 'Java', 'JavaScript', 'Kubernetes',\n",
    "       'LISP', 'MariaDB', 'Microsoft Azure', 'Node.js', 'Oracle', 'PHP',\n",
    "       'Pandas', 'Perl', 'PowerShell', 'Python', 'Qt', 'React.js', 'Redis',\n",
    "       'Ruby on Rails', 'Rust', 'Scala', 'Swift', 'Terraform', 'TypeScript',\n",
    "       'Unity 3D', 'Vue.js', 'Xamarin', 'jQuery']\n",
    "simple_list = [[5.0,1.0,0.0,1.0,0.0,1.0,0.0,1.0,0.0,1.0,0.0,1.0,0.0,1.0,0.0,1.0,0.0,1.0,0.0,1.0,0.0,1.0,0.0,1.0,0.0,1.0,0.0,1.0,0.0,1.0,0.0,1.0,0.0,1.0,0.0,1.0,0.0,1.0,0.0,1.0,0.0,1.0,0.0,1.0,0.0]]\n",
    "mylist = pd.DataFrame(simple_list, columns = headers)"
   ]
  },
  {
   "cell_type": "code",
   "execution_count": 12,
   "id": "14d673f6",
   "metadata": {},
   "outputs": [],
   "source": [
    "prediction = model.predict(mylist)"
   ]
  },
  {
   "cell_type": "code",
   "execution_count": 15,
   "id": "394a37df",
   "metadata": {},
   "outputs": [
    {
     "data": {
      "text/plain": [
       "120673.09"
      ]
     },
     "execution_count": 15,
     "metadata": {},
     "output_type": "execute_result"
    }
   ],
   "source": [
    "prediction[0][0]"
   ]
  },
  {
   "cell_type": "code",
   "execution_count": null,
   "id": "237246cd",
   "metadata": {},
   "outputs": [],
   "source": []
  }
 ],
 "metadata": {
  "kernelspec": {
   "display_name": "Python 3",
   "language": "python",
   "name": "python3"
  },
  "language_info": {
   "codemirror_mode": {
    "name": "ipython",
    "version": 3
   },
   "file_extension": ".py",
   "mimetype": "text/x-python",
   "name": "python",
   "nbconvert_exporter": "python",
   "pygments_lexer": "ipython3",
   "version": "3.6.13"
  }
 },
 "nbformat": 4,
 "nbformat_minor": 5
}
